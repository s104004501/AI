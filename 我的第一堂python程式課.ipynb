{
  "nbformat": 4,
  "nbformat_minor": 0,
  "metadata": {
    "colab": {
      "name": "我的第一堂python程式課.ipynb",
      "version": "0.3.2",
      "provenance": [],
      "include_colab_link": true
    },
    "kernelspec": {
      "name": "python3",
      "display_name": "Python 3"
    }
  },
  "cells": [
    {
      "cell_type": "markdown",
      "metadata": {
        "id": "view-in-github",
        "colab_type": "text"
      },
      "source": [
        "<a href=\"https://colab.research.google.com/github/s104004501/AI/blob/master/%E6%88%91%E7%9A%84%E7%AC%AC%E4%B8%80%E5%A0%82python%E7%A8%8B%E5%BC%8F%E8%AA%B2.ipynb\" target=\"_parent\"><img src=\"https://colab.research.google.com/assets/colab-badge.svg\" alt=\"Open In Colab\"/></a>"
      ]
    },
    {
      "metadata": {
        "id": "S1mviK_XkmxT",
        "colab_type": "text"
      },
      "cell_type": "markdown",
      "source": [
        "#我的第一支python程式\n",
        "計算圓周長"
      ]
    },
    {
      "metadata": {
        "id": "yWpSDOP1ks5z",
        "colab_type": "code",
        "colab": {
          "base_uri": "https://localhost:8080/",
          "height": 51
        },
        "outputId": "27221246-0dca-49fc-a990-1e25432b5f10"
      },
      "cell_type": "code",
      "source": [
        "#!/usr/bin/env python\n",
        "#coding=utf-8\n",
        "\n",
        "radius = eval(input(\"輸入半徑大小 \"))\n",
        "\n",
        "perimeter = 2.0 * radius * 3.14159265359\n",
        "\n",
        "print(\"圓周長\", radius, \"is\", perimeter)"
      ],
      "execution_count": 2,
      "outputs": [
        {
          "output_type": "stream",
          "text": [
            "輸入半徑大小 100\n",
            "圓周長 100 is 628.318530718\n"
          ],
          "name": "stdout"
        }
      ]
    },
    {
      "metadata": {
        "id": "jBNRvrRvomo7",
        "colab_type": "text"
      },
      "cell_type": "markdown",
      "source": [
        "#我的第二支python程式\n",
        "計算四方形面積"
      ]
    },
    {
      "metadata": {
        "id": "wrrrmvGOorEy",
        "colab_type": "code",
        "colab": {
          "base_uri": "https://localhost:8080/",
          "height": 68
        },
        "outputId": "c4494bdb-0769-4e86-9c35-7db6f98b0b43"
      },
      "cell_type": "code",
      "source": [
        "#!/usr/bin/env python\n",
        "#coding=utf-8\n",
        "\n",
        "length = eval(input(\"輸入四方形長度 \"))\n",
        "width = eval(input(\"輸入四方形寬度 \"))\n",
        "\n",
        "perimeter = 2.0 * (width+length)\n",
        "area = width*length\n",
        "\n",
        "print(\"四方形長度為\", length, \"寬度為\", width,\"面積是\",area,\"的周長是\",perimeter)"
      ],
      "execution_count": 3,
      "outputs": [
        {
          "output_type": "stream",
          "text": [
            "輸入四方形長度 100\n",
            "輸入四方形寬度 20\n",
            "四方形長度為 100 寬度為 20 面積是 2000 的周長是 240.0\n"
          ],
          "name": "stdout"
        }
      ]
    }
  ]
}