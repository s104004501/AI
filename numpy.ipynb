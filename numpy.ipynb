{
  "nbformat": 4,
  "nbformat_minor": 0,
  "metadata": {
    "colab": {
      "name": "numpy.ipynb",
      "version": "0.3.2",
      "provenance": [],
      "include_colab_link": true
    },
    "kernelspec": {
      "name": "python3",
      "display_name": "Python 3"
    }
  },
  "cells": [
    {
      "cell_type": "markdown",
      "metadata": {
        "id": "view-in-github",
        "colab_type": "text"
      },
      "source": [
        "<a href=\"https://colab.research.google.com/github/s104004501/AI/blob/master/numpy.ipynb\" target=\"_parent\"><img src=\"https://colab.research.google.com/assets/colab-badge.svg\" alt=\"Open In Colab\"/></a>"
      ]
    },
    {
      "cell_type": "markdown",
      "metadata": {
        "id": "X6SO3ZUpGKoi",
        "colab_type": "text"
      },
      "source": [
        "#NUMPY"
      ]
    },
    {
      "cell_type": "code",
      "metadata": {
        "id": "Pdli1cIqFBzI",
        "colab_type": "code",
        "colab": {}
      },
      "source": [
        "import pandas as pd\n",
        "print(\"pandas version: %s\" % pd.__version__)\n"
      ],
      "execution_count": 0,
      "outputs": []
    },
    {
      "cell_type": "code",
      "metadata": {
        "id": "1hXkNI10FKwq",
        "colab_type": "code",
        "colab": {}
      },
      "source": [
        "import matplotlib\n",
        "print(\"matplotlib version: %s\" % matplotlib.__version__)\n",
        "import numpy as np\n",
        "print(\"numpy version: %s\" % np.__version__)\n",
        "import sklearn\n",
        "print(\"scikit-learn version: %s\" % sklearn.__version__)\n"
      ],
      "execution_count": 0,
      "outputs": []
    },
    {
      "cell_type": "markdown",
      "metadata": {
        "id": "dEqA7xvcKCO6",
        "colab_type": "text"
      },
      "source": [
        "# 建立array(陣列)"
      ]
    },
    {
      "cell_type": "markdown",
      "metadata": {
        "id": "gYMVSChZK2EK",
        "colab_type": "text"
      },
      "source": [
        "###使用np.array()建立陣列"
      ]
    },
    {
      "cell_type": "code",
      "metadata": {
        "id": "th4ae99UKKB6",
        "colab_type": "code",
        "colab": {}
      },
      "source": [
        "import numpy as np\n",
        "x = np.array([[1,2.0],[0,0],(1+1j,3.)])\n",
        "print(x)"
      ],
      "execution_count": 0,
      "outputs": []
    },
    {
      "cell_type": "markdown",
      "metadata": {
        "id": "j49fMEcNLLPb",
        "colab_type": "text"
      },
      "source": [
        "###使用numpy提供的創建函數直接生成\n"
      ]
    },
    {
      "cell_type": "code",
      "metadata": {
        "id": "w5k0fuNdLNsC",
        "colab_type": "code",
        "colab": {
          "base_uri": "https://localhost:8080/",
          "height": 51
        },
        "outputId": "8917cb5e-cc00-4860-e0dc-eb71f6ad43e7"
      },
      "source": [
        "import numpy as np\n",
        "x = np.zeros((2, 3))\n",
        "print(x)\n"
      ],
      "execution_count": 11,
      "outputs": [
        {
          "output_type": "stream",
          "text": [
            "[[0. 0. 0.]\n",
            " [0. 0. 0.]]\n"
          ],
          "name": "stdout"
        }
      ]
    },
    {
      "cell_type": "code",
      "metadata": {
        "id": "OfGvdOeXLsfx",
        "colab_type": "code",
        "colab": {
          "base_uri": "https://localhost:8080/",
          "height": 34
        },
        "outputId": "c9d2e631-13a0-4955-92db-0e321e677bcb"
      },
      "source": [
        "import numpy as np\n",
        "y = np.arange(2, 3, 0.1) # start, end, step\n",
        "\n",
        "print(y)"
      ],
      "execution_count": 10,
      "outputs": [
        {
          "output_type": "stream",
          "text": [
            "[2.  2.1 2.2 2.3 2.4 2.5 2.6 2.7 2.8 2.9]\n"
          ],
          "name": "stdout"
        }
      ]
    },
    {
      "cell_type": "code",
      "metadata": {
        "id": "5OEpMANLL7Xy",
        "colab_type": "code",
        "colab": {
          "base_uri": "https://localhost:8080/",
          "height": 34
        },
        "outputId": "697c9597-ec6b-4c4d-9a8e-c74960a96348"
      },
      "source": [
        "import numpy as np\n",
        "\n",
        "z = np.linspace(1., 4., 6) # start, end, num\n",
        "print(z)"
      ],
      "execution_count": 9,
      "outputs": [
        {
          "output_type": "stream",
          "text": [
            "[1.  1.6 2.2 2.8 3.4 4. ]\n"
          ],
          "name": "stdout"
        }
      ]
    },
    {
      "cell_type": "code",
      "metadata": {
        "id": "Lff7runHPjRJ",
        "colab_type": "code",
        "colab": {
          "base_uri": "https://localhost:8080/",
          "height": 34
        },
        "outputId": "6c43cdd3-0ff9-4caa-a445-530b61599f88"
      },
      "source": [
        "import numpy as np\n",
        "\n",
        "z = np.linspace(2.0, 3.0, num=5)\n",
        "\n",
        "print(z)"
      ],
      "execution_count": 13,
      "outputs": [
        {
          "output_type": "stream",
          "text": [
            "[2.   2.25 2.5  2.75 3.  ]\n"
          ],
          "name": "stdout"
        }
      ]
    },
    {
      "cell_type": "code",
      "metadata": {
        "id": "CcFka_glPqpq",
        "colab_type": "code",
        "colab": {
          "base_uri": "https://localhost:8080/",
          "height": 34
        },
        "outputId": "186f84ef-aaed-4e7f-eea3-6a298bacf891"
      },
      "source": [
        "import numpy as np\n",
        "\n",
        "z = np.linspace(2.0, 3.0, num=5, endpoint=False)\n",
        "\n",
        "print(z)"
      ],
      "execution_count": 14,
      "outputs": [
        {
          "output_type": "stream",
          "text": [
            "[2.  2.2 2.4 2.6 2.8]\n"
          ],
          "name": "stdout"
        }
      ]
    },
    {
      "cell_type": "code",
      "metadata": {
        "id": "wjFVg-ECPz0Z",
        "colab_type": "code",
        "colab": {
          "base_uri": "https://localhost:8080/",
          "height": 34
        },
        "outputId": "938f809e-daa9-405a-f479-31d920001ba3"
      },
      "source": [
        "import numpy as np\n",
        "\n",
        "z = np.linspace(2.0, 3.0, num=5, retstep=True)\n",
        "print(z)"
      ],
      "execution_count": 15,
      "outputs": [
        {
          "output_type": "stream",
          "text": [
            "(array([2.  , 2.25, 2.5 , 2.75, 3.  ]), 0.25)\n"
          ],
          "name": "stdout"
        }
      ]
    },
    {
      "cell_type": "markdown",
      "metadata": {
        "id": "k2DZBOkFRanC",
        "colab_type": "text"
      },
      "source": [
        "##屬性"
      ]
    },
    {
      "cell_type": "code",
      "metadata": {
        "id": "Ug8UkAXYRetT",
        "colab_type": "code",
        "colab": {}
      },
      "source": [
        "import numpy as np\n",
        "\n",
        "ar2=np.array([[0,3,5],[2,8,7]]) # 2D array\n",
        "\n",
        "ar2.shape\n"
      ],
      "execution_count": 0,
      "outputs": []
    },
    {
      "cell_type": "code",
      "metadata": {
        "id": "3eDIeQXhRtFC",
        "colab_type": "code",
        "colab": {
          "base_uri": "https://localhost:8080/",
          "height": 34
        },
        "outputId": "ec3de70f-3ef6-4207-8525-5a0147794fe5"
      },
      "source": [
        "ar2.ndim\n"
      ],
      "execution_count": 18,
      "outputs": [
        {
          "output_type": "execute_result",
          "data": {
            "text/plain": [
              "2"
            ]
          },
          "metadata": {
            "tags": []
          },
          "execution_count": 18
        }
      ]
    },
    {
      "cell_type": "markdown",
      "metadata": {
        "id": "KjMzkbhrR5wZ",
        "colab_type": "text"
      },
      "source": [
        "##Ndarray的各種運算"
      ]
    },
    {
      "cell_type": "markdown",
      "metadata": {
        "id": "xsvE9sFxSGfh",
        "colab_type": "text"
      },
      "source": [
        "###reshape"
      ]
    },
    {
      "cell_type": "code",
      "metadata": {
        "id": "6m2Y6LgqR_ia",
        "colab_type": "code",
        "colab": {
          "base_uri": "https://localhost:8080/",
          "height": 34
        },
        "outputId": "4e30cbe5-03b0-4c42-8ae6-5b02fe2d72f1"
      },
      "source": [
        "x = np.arange(4)\n",
        "x"
      ],
      "execution_count": 21,
      "outputs": [
        {
          "output_type": "execute_result",
          "data": {
            "text/plain": [
              "array([0, 1, 2, 3])"
            ]
          },
          "metadata": {
            "tags": []
          },
          "execution_count": 21
        }
      ]
    },
    {
      "cell_type": "code",
      "metadata": {
        "id": "c2O5ODOZSVUh",
        "colab_type": "code",
        "colab": {
          "base_uri": "https://localhost:8080/",
          "height": 85
        },
        "outputId": "3e2d8526-1276-4086-f802-49fde7d2255c"
      },
      "source": [
        "x2 = x.reshape(4,1)\n",
        "x2"
      ],
      "execution_count": 22,
      "outputs": [
        {
          "output_type": "execute_result",
          "data": {
            "text/plain": [
              "array([[0],\n",
              "       [1],\n",
              "       [2],\n",
              "       [3]])"
            ]
          },
          "metadata": {
            "tags": []
          },
          "execution_count": 22
        }
      ]
    },
    {
      "cell_type": "code",
      "metadata": {
        "id": "dfWHwAK5S835",
        "colab_type": "code",
        "colab": {
          "base_uri": "https://localhost:8080/",
          "height": 51
        },
        "outputId": "6176331b-6623-496e-bbae-cc4278a516e2"
      },
      "source": [
        "import numpy as np\n",
        "x = np.arange(2,10).reshape(2,4)\n",
        "x"
      ],
      "execution_count": 23,
      "outputs": [
        {
          "output_type": "execute_result",
          "data": {
            "text/plain": [
              "array([[2, 3, 4, 5],\n",
              "       [6, 7, 8, 9]])"
            ]
          },
          "metadata": {
            "tags": []
          },
          "execution_count": 23
        }
      ]
    },
    {
      "cell_type": "code",
      "metadata": {
        "id": "6NHScr6SUK9C",
        "colab_type": "code",
        "colab": {
          "base_uri": "https://localhost:8080/",
          "height": 85
        },
        "outputId": "1999e67c-bf0c-47c2-bff9-626086008a16"
      },
      "source": [
        "import numpy as np\n",
        "x = np.arange(2,10).reshape(4,2)\n",
        "x"
      ],
      "execution_count": 24,
      "outputs": [
        {
          "output_type": "execute_result",
          "data": {
            "text/plain": [
              "array([[2, 3],\n",
              "       [4, 5],\n",
              "       [6, 7],\n",
              "       [8, 9]])"
            ]
          },
          "metadata": {
            "tags": []
          },
          "execution_count": 24
        }
      ]
    },
    {
      "cell_type": "code",
      "metadata": {
        "id": "v9FoT_krVSPZ",
        "colab_type": "code",
        "colab": {
          "base_uri": "https://localhost:8080/",
          "height": 255
        },
        "outputId": "5071d336-1eeb-46bf-9dff-1e06aeea8063"
      },
      "source": [
        "import numpy as np\n",
        "x = np.arange(24).reshape(3,4,2)\n",
        "x"
      ],
      "execution_count": 28,
      "outputs": [
        {
          "output_type": "execute_result",
          "data": {
            "text/plain": [
              "array([[[ 0,  1],\n",
              "        [ 2,  3],\n",
              "        [ 4,  5],\n",
              "        [ 6,  7]],\n",
              "\n",
              "       [[ 8,  9],\n",
              "        [10, 11],\n",
              "        [12, 13],\n",
              "        [14, 15]],\n",
              "\n",
              "       [[16, 17],\n",
              "        [18, 19],\n",
              "        [20, 21],\n",
              "        [22, 23]]])"
            ]
          },
          "metadata": {
            "tags": []
          },
          "execution_count": 28
        }
      ]
    },
    {
      "cell_type": "code",
      "metadata": {
        "id": "QKrkQXsUVtvK",
        "colab_type": "code",
        "colab": {
          "base_uri": "https://localhost:8080/",
          "height": 272
        },
        "outputId": "58d2b267-f449-47af-ad6f-5acc7a063a16"
      },
      "source": [
        "import numpy as np\n",
        "x = np.arange(24).reshape(4,3,2)\n",
        "\n",
        "x"
      ],
      "execution_count": 29,
      "outputs": [
        {
          "output_type": "execute_result",
          "data": {
            "text/plain": [
              "array([[[ 0,  1],\n",
              "        [ 2,  3],\n",
              "        [ 4,  5]],\n",
              "\n",
              "       [[ 6,  7],\n",
              "        [ 8,  9],\n",
              "        [10, 11]],\n",
              "\n",
              "       [[12, 13],\n",
              "        [14, 15],\n",
              "        [16, 17]],\n",
              "\n",
              "       [[18, 19],\n",
              "        [20, 21],\n",
              "        [22, 23]]])"
            ]
          },
          "metadata": {
            "tags": []
          },
          "execution_count": 29
        }
      ]
    },
    {
      "cell_type": "code",
      "metadata": {
        "id": "nxXtTDz-X7T0",
        "colab_type": "code",
        "colab": {
          "base_uri": "https://localhost:8080/",
          "height": 51
        },
        "outputId": "3618abe3-d9cc-40cb-c409-f0adc8500763"
      },
      "source": [
        "import numpy as np\n",
        "ar=np.array([np.arange(1,6),np.arange(10,15)]); \n",
        "\n",
        "ar"
      ],
      "execution_count": 30,
      "outputs": [
        {
          "output_type": "execute_result",
          "data": {
            "text/plain": [
              "array([[ 1,  2,  3,  4,  5],\n",
              "       [10, 11, 12, 13, 14]])"
            ]
          },
          "metadata": {
            "tags": []
          },
          "execution_count": 30
        }
      ]
    },
    {
      "cell_type": "code",
      "metadata": {
        "id": "Arm-p0CAYwSh",
        "colab_type": "code",
        "colab": {
          "base_uri": "https://localhost:8080/",
          "height": 34
        },
        "outputId": "609fdf72-727a-45ed-fea2-f4c77bc81af9"
      },
      "source": [
        "ar.ravel()\n"
      ],
      "execution_count": 31,
      "outputs": [
        {
          "output_type": "execute_result",
          "data": {
            "text/plain": [
              "array([ 1,  2,  3,  4,  5, 10, 11, 12, 13, 14])"
            ]
          },
          "metadata": {
            "tags": []
          },
          "execution_count": 31
        }
      ]
    },
    {
      "cell_type": "code",
      "metadata": {
        "id": "s2x2JECXYyqJ",
        "colab_type": "code",
        "colab": {
          "base_uri": "https://localhost:8080/",
          "height": 34
        },
        "outputId": "376a9ea7-d307-419a-f78c-7780c9113db4"
      },
      "source": [
        "ar.T.ravel()\n"
      ],
      "execution_count": 32,
      "outputs": [
        {
          "output_type": "execute_result",
          "data": {
            "text/plain": [
              "array([ 1, 10,  2, 11,  3, 12,  4, 13,  5, 14])"
            ]
          },
          "metadata": {
            "tags": []
          },
          "execution_count": 32
        }
      ]
    },
    {
      "cell_type": "code",
      "metadata": {
        "id": "Fn7H9Mzuawrq",
        "colab_type": "code",
        "colab": {
          "base_uri": "https://localhost:8080/",
          "height": 85
        },
        "outputId": "d03ec3ab-880f-41e9-95ac-585e456d96a3"
      },
      "source": [
        "import numpy as np\n",
        "ar=np.random.rand(4,2)\n",
        "\n",
        "\n",
        "ar"
      ],
      "execution_count": 33,
      "outputs": [
        {
          "output_type": "execute_result",
          "data": {
            "text/plain": [
              "array([[0.78215814, 0.50558393],\n",
              "       [0.06715706, 0.58693079],\n",
              "       [0.94759818, 0.01609983],\n",
              "       [0.15229502, 0.61150053]])"
            ]
          },
          "metadata": {
            "tags": []
          },
          "execution_count": 33
        }
      ]
    },
    {
      "cell_type": "code",
      "metadata": {
        "id": "bAVnsFlta_6x",
        "colab_type": "code",
        "colab": {
          "base_uri": "https://localhost:8080/",
          "height": 85
        },
        "outputId": "1514bab7-3305-4c21-d8e7-5a1072688bf0"
      },
      "source": [
        "import numpy as np\n",
        "ar=np.random.rand(4,2)\n",
        "\n",
        "\n",
        "ar"
      ],
      "execution_count": 34,
      "outputs": [
        {
          "output_type": "execute_result",
          "data": {
            "text/plain": [
              "array([[0.92548723, 0.48593118],\n",
              "       [0.66953531, 0.12706256],\n",
              "       [0.71537452, 0.60785124],\n",
              "       [0.19095902, 0.5948434 ]])"
            ]
          },
          "metadata": {
            "tags": []
          },
          "execution_count": 34
        }
      ]
    },
    {
      "cell_type": "code",
      "metadata": {
        "id": "c6D4WaugbKaS",
        "colab_type": "code",
        "colab": {
          "base_uri": "https://localhost:8080/",
          "height": 272
        },
        "outputId": "05d94213-491c-4e35-c6ab-c94e6d2e792f"
      },
      "source": [
        "import numpy as np\n",
        "ar=np.random.rand(4,3,2)\n",
        "\n",
        "\n",
        "ar"
      ],
      "execution_count": 36,
      "outputs": [
        {
          "output_type": "execute_result",
          "data": {
            "text/plain": [
              "array([[[0.77349516, 0.92162982],\n",
              "        [0.12402755, 0.46674574],\n",
              "        [0.94377081, 0.97455256]],\n",
              "\n",
              "       [[0.41116814, 0.29528381],\n",
              "        [0.96468808, 0.8020305 ],\n",
              "        [0.48616676, 0.41808065]],\n",
              "\n",
              "       [[0.78701196, 0.23736284],\n",
              "        [0.1468998 , 0.66868307],\n",
              "        [0.90169613, 0.25341794]],\n",
              "\n",
              "       [[0.76737319, 0.5286602 ],\n",
              "        [0.05875538, 0.87896293],\n",
              "        [0.71551691, 0.41748527]]])"
            ]
          },
          "metadata": {
            "tags": []
          },
          "execution_count": 36
        }
      ]
    }
  ]
}